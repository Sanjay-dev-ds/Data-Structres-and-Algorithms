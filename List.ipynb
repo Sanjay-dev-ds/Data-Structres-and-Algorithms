{
 "cells": [
  {
   "cell_type": "code",
   "execution_count": 16,
   "id": "8c955e99-9182-42ee-9937-a4a05f30ccb4",
   "metadata": {},
   "outputs": [
    {
     "name": "stdout",
     "output_type": "stream",
     "text": [
      "list1[0]:  physics\n",
      "list2[1:5]:  [2, 3, 4, 5]\n"
     ]
    }
   ],
   "source": [
    "list1 = ['physics', 'chemistry', 1997, 2000]\n",
    "list2 = [1, 2, 3, 4, 5 ]\n",
    "list3 = [\"a\", \"b\", \"c\", \"d\"]\n",
    "\n",
    "print ( \"list1[0]: \", list1[0] )\n",
    "print ( \"list2[1:5]: \", list2[1:5] )"
   ]
  },
  {
   "cell_type": "markdown",
   "id": "7092b49b-1c91-4252-9a6d-0b086518a9ce",
   "metadata": {},
   "source": [
    "\tUPDATE"
   ]
  },
  {
   "cell_type": "code",
   "execution_count": 15,
   "id": "2b35783b-5671-45b2-b6e9-77c02708b9e7",
   "metadata": {},
   "outputs": [
    {
     "name": "stdout",
     "output_type": "stream",
     "text": [
      "Value available at index 2 : \n",
      "1997\n",
      " New value available at index 2 : \n",
      "2001\n"
     ]
    }
   ],
   "source": [
    "\n",
    "list = ['physics', 'chemistry', 1997, 2000]\n",
    "print (\"Value available at index 2 : \")\n",
    "print (list[2])\n",
    "list[2] = 2001\n",
    "print (\" New value available at index 2 : \")\n",
    "print (list[2])"
   ]
  },
  {
   "cell_type": "markdown",
   "id": "3d718376-84bf-4205-b018-703f05ee38ea",
   "metadata": {},
   "source": [
    "\tDELETE"
   ]
  },
  {
   "cell_type": "code",
   "execution_count": 18,
   "id": "34bc984c-0f43-4e8b-b08f-0f979e2aac68",
   "metadata": {},
   "outputs": [
    {
     "name": "stdout",
     "output_type": "stream",
     "text": [
      "['physics', 'chemistry', 1997, 2000]\n",
      "['physics', 'chemistry', 2000]\n"
     ]
    }
   ],
   "source": [
    "list1 = ['physics', 'chemistry', 1997, 2000]\n",
    "print(list1)\n",
    "del list1[2]\n",
    "print(list1)"
   ]
  },
  {
   "cell_type": "markdown",
   "id": "c6407e12-36ae-400e-9684-b7670fcb83a8",
   "metadata": {},
   "source": [
    "\tLength"
   ]
  },
  {
   "cell_type": "code",
   "execution_count": 19,
   "id": "ae87a679-3b38-4b96-b8ec-01a05f662439",
   "metadata": {},
   "outputs": [
    {
     "data": {
      "text/plain": [
       "3"
      ]
     },
     "execution_count": 19,
     "metadata": {},
     "output_type": "execute_result"
    }
   ],
   "source": [
    "len([1, 2, 3])"
   ]
  },
  {
   "cell_type": "markdown",
   "id": "240980ea-1a44-4e9f-9549-a5e699fee0cd",
   "metadata": {},
   "source": [
    "\tConcatenation"
   ]
  },
  {
   "cell_type": "code",
   "execution_count": 20,
   "id": "22fd0403-55d8-4f5e-963a-af7e11024abd",
   "metadata": {},
   "outputs": [
    {
     "data": {
      "text/plain": [
       "['physics', 'chemistry', 2000, 1, 2, 3, 4, 5]"
      ]
     },
     "execution_count": 20,
     "metadata": {},
     "output_type": "execute_result"
    }
   ],
   "source": [
    "list1+list2"
   ]
  },
  {
   "cell_type": "markdown",
   "id": "55aede1b-d7f5-4142-8b00-8f435dd741e3",
   "metadata": {},
   "source": [
    "\tRepetition"
   ]
  },
  {
   "cell_type": "code",
   "execution_count": 21,
   "id": "1995edc4-53bf-4fd1-8067-371d0f3e870b",
   "metadata": {},
   "outputs": [
    {
     "data": {
      "text/plain": [
       "['Hi!', 'Hi!', 'Hi!', 'Hi!']"
      ]
     },
     "execution_count": 21,
     "metadata": {},
     "output_type": "execute_result"
    }
   ],
   "source": [
    "['Hi!'] * 4"
   ]
  },
  {
   "cell_type": "markdown",
   "id": "ae363acf-e732-4761-813e-ae701c443f80",
   "metadata": {},
   "source": [
    "\tMembership"
   ]
  },
  {
   "cell_type": "code",
   "execution_count": 22,
   "id": "9e3db864-f697-498d-bf46-aa8e40305d2e",
   "metadata": {},
   "outputs": [
    {
     "data": {
      "text/plain": [
       "True"
      ]
     },
     "execution_count": 22,
     "metadata": {},
     "output_type": "execute_result"
    }
   ],
   "source": [
    "3 in list2"
   ]
  },
  {
   "cell_type": "markdown",
   "id": "d8763995-2a88-4357-aecc-498f49d500fd",
   "metadata": {},
   "source": [
    "\tIteration"
   ]
  },
  {
   "cell_type": "code",
   "execution_count": 26,
   "id": "3c02c449-8ca9-4ced-ad90-b609afbed8a5",
   "metadata": {},
   "outputs": [
    {
     "name": "stdout",
     "output_type": "stream",
     "text": [
      "physics\n",
      "chemistry\n",
      "2000\n"
     ]
    }
   ],
   "source": [
    "for x in list1 : \n",
    "    print (x)"
   ]
  },
  {
   "cell_type": "code",
   "execution_count": null,
   "id": "2764f420-6d13-4520-a9ed-27e91f3496a2",
   "metadata": {},
   "outputs": [],
   "source": []
  }
 ],
 "metadata": {
  "kernelspec": {
   "display_name": "Python 3 (ipykernel)",
   "language": "python",
   "name": "python3"
  },
  "language_info": {
   "codemirror_mode": {
    "name": "ipython",
    "version": 3
   },
   "file_extension": ".py",
   "mimetype": "text/x-python",
   "name": "python",
   "nbconvert_exporter": "python",
   "pygments_lexer": "ipython3",
   "version": "3.9.7"
  }
 },
 "nbformat": 4,
 "nbformat_minor": 5
}
