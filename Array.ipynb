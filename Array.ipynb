{
 "cells": [
  {
   "cell_type": "code",
   "execution_count": null,
   "id": "6cf97eed-6f2e-4d2e-9611-52f20ffdccab",
   "metadata": {},
   "outputs": [],
   "source": [
    "#ARRAY"
   ]
  },
  {
   "cell_type": "code",
   "execution_count": 13,
   "id": "d69471eb-c9aa-4275-84af-8fa938bf9c9a",
   "metadata": {},
   "outputs": [
    {
     "name": "stdout",
     "output_type": "stream",
     "text": [
      "10\n",
      "20\n",
      "30\n",
      "40\n",
      "50\n"
     ]
    }
   ],
   "source": [
    "from array import *\n",
    "array1 = array('i', [10,20,30,40,50])\n",
    "\n",
    "for x in array1:\n",
    "   print(x)\n",
    "\n",
    "\n",
    "\n",
    "\n"
   ]
  },
  {
   "cell_type": "code",
   "execution_count": 14,
   "id": "a7a5d533-b793-49fd-96f8-3c711383a034",
   "metadata": {},
   "outputs": [
    {
     "name": "stdout",
     "output_type": "stream",
     "text": [
      "10\n",
      "60\n",
      "20\n",
      "30\n",
      "40\n",
      "50\n"
     ]
    }
   ],
   "source": [
    "array1.insert(1,60)\n",
    "for x in array1:\n",
    "   print(x)\n"
   ]
  },
  {
   "cell_type": "code",
   "execution_count": 15,
   "id": "f373f31d-6286-4244-bdeb-dc2c7c6163dc",
   "metadata": {},
   "outputs": [
    {
     "name": "stdout",
     "output_type": "stream",
     "text": [
      "10\n",
      "60\n",
      "20\n",
      "30\n",
      "50\n"
     ]
    }
   ],
   "source": [
    "array1.remove(40)\n",
    "\n",
    "for x in array1:\n",
    "   print(x)"
   ]
  },
  {
   "cell_type": "code",
   "execution_count": 17,
   "id": "2d45faa5-2ed2-4dfc-9479-b50068078406",
   "metadata": {},
   "outputs": [
    {
     "name": "stdout",
     "output_type": "stream",
     "text": [
      "1\n"
     ]
    }
   ],
   "source": [
    "#\n",
    "print (array1.index(60))"
   ]
  },
  {
   "cell_type": "code",
   "execution_count": null,
   "id": "ad120a04-5245-4b64-8e1f-5ca25af5c13c",
   "metadata": {},
   "outputs": [],
   "source": [
    "#UPDATE\n",
    "array1[2] = 80\n",
    "for x in array1:\n",
    "   print(x)"
   ]
  }
 ],
 "metadata": {
  "kernelspec": {
   "display_name": "Python 3 (ipykernel)",
   "language": "python",
   "name": "python3"
  },
  "language_info": {
   "codemirror_mode": {
    "name": "ipython",
    "version": 3
   },
   "file_extension": ".py",
   "mimetype": "text/x-python",
   "name": "python",
   "nbconvert_exporter": "python",
   "pygments_lexer": "ipython3",
   "version": "3.9.7"
  }
 },
 "nbformat": 4,
 "nbformat_minor": 5
}
